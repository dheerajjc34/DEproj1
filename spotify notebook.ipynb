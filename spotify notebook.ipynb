{
 "cells": [
  {
   "cell_type": "code",
   "execution_count": 0,
   "metadata": {
    "application/vnd.databricks.v1+cell": {
     "cellMetadata": {
      "byteLimit": 2048000,
      "rowLimit": 10000
     },
     "inputWidgets": {},
     "nuid": "c81cd9b1-c178-48ca-80d7-631d34d2356c",
     "showTitle": false,
     "title": ""
    }
   },
   "outputs": [],
   "source": [
    "spark.conf.set(\"fs.azure.account.auth.type.spotifyadls.dfs.core.windows.net\", \"SAS\")\n",
    "spark.conf.set(\"fs.azure.sas.token.provider.type.spotifyadls.dfs.core.windows.net\", \"org.apache.hadoop.fs.azurebfs.sas.FixedSASTokenProvider\")\n",
    "spark.conf.set(\"fs.azure.sas.fixed.token.spotifyadls.dfs.core.windows.net\", \"sv=2022-11-02&ss=bfqt&srt=sco&sp=rwdlacupyx&se=2024-06-18T09:16:14Z&st=2024-06-16T01:16:14Z&spr=https&sig=sbia7gRMs55MIObCjvK9XRx3VH6wcCc%2BpB%2F5OuijO8Y%3D\")\n",
    "\n",
    "\n"
   ]
  },
  {
   "cell_type": "code",
   "execution_count": 0,
   "metadata": {
    "application/vnd.databricks.v1+cell": {
     "cellMetadata": {
      "byteLimit": 2048000,
      "rowLimit": 10000
     },
     "inputWidgets": {},
     "nuid": "211a3ced-b98f-4aa3-a944-1b213f5c2870",
     "showTitle": false,
     "title": ""
    }
   },
   "outputs": [],
   "source": [
    "from pyspark.sql import SparkSession\n",
    "from pyspark.sql.functions import *\n",
    "\n",
    "df = spark.read.format(\"csv\").option(\"header\",\"true\").load(\"abfss://raw-data@spotifyadls.dfs.core.windows.net/spotify-2023.csv\")"
   ]
  },
  {
   "cell_type": "code",
   "execution_count": 0,
   "metadata": {
    "application/vnd.databricks.v1+cell": {
     "cellMetadata": {
      "byteLimit": 2048000,
      "rowLimit": 10000
     },
     "inputWidgets": {},
     "nuid": "c5c488ee-36dd-45a7-bcdb-70a3c64c8122",
     "showTitle": false,
     "title": ""
    }
   },
   "outputs": [
    {
     "output_type": "execute_result",
     "data": {
      "text/html": [
       "<div>\n",
       "<style scoped>\n",
       "    .dataframe tbody tr th:only-of-type {\n",
       "        vertical-align: middle;\n",
       "    }\n",
       "\n",
       "    .dataframe tbody tr th {\n",
       "        vertical-align: top;\n",
       "    }\n",
       "\n",
       "    .dataframe thead th {\n",
       "        text-align: right;\n",
       "    }\n",
       "</style>\n",
       "<table border=\"1\" class=\"dataframe\">\n",
       "  <thead>\n",
       "    <tr style=\"text-align: right;\">\n",
       "      <th></th>\n",
       "      <th>track_name</th>\n",
       "      <th>artist(s)_name</th>\n",
       "      <th>artist_count</th>\n",
       "      <th>released_year</th>\n",
       "      <th>released_month</th>\n",
       "      <th>released_day</th>\n",
       "      <th>in_spotify_playlists</th>\n",
       "      <th>in_spotify_charts</th>\n",
       "      <th>streams</th>\n",
       "      <th>in_apple_playlists</th>\n",
       "      <th>in_apple_charts</th>\n",
       "      <th>in_deezer_playlists</th>\n",
       "      <th>in_deezer_charts</th>\n",
       "      <th>in_shazam_charts</th>\n",
       "      <th>bpm</th>\n",
       "      <th>key</th>\n",
       "      <th>mode</th>\n",
       "      <th>danceability_%</th>\n",
       "      <th>valence_%</th>\n",
       "      <th>energy_%</th>\n",
       "      <th>acousticness_%</th>\n",
       "      <th>instrumentalness_%</th>\n",
       "      <th>liveness_%</th>\n",
       "      <th>speechiness_%</th>\n",
       "    </tr>\n",
       "  </thead>\n",
       "  <tbody>\n",
       "    <tr>\n",
       "      <th>0</th>\n",
       "      <td>Seven (feat. Latto) (Explicit Ver.)</td>\n",
       "      <td>Latto, Jung Kook</td>\n",
       "      <td>2</td>\n",
       "      <td>2023</td>\n",
       "      <td>7</td>\n",
       "      <td>14</td>\n",
       "      <td>553</td>\n",
       "      <td>147</td>\n",
       "      <td>141381703</td>\n",
       "      <td>43</td>\n",
       "      <td>263</td>\n",
       "      <td>45</td>\n",
       "      <td>10</td>\n",
       "      <td>826</td>\n",
       "      <td>125</td>\n",
       "      <td>B</td>\n",
       "      <td>Major</td>\n",
       "      <td>80</td>\n",
       "      <td>89</td>\n",
       "      <td>83</td>\n",
       "      <td>31</td>\n",
       "      <td>0</td>\n",
       "      <td>8</td>\n",
       "      <td>4</td>\n",
       "    </tr>\n",
       "    <tr>\n",
       "      <th>1</th>\n",
       "      <td>LALA</td>\n",
       "      <td>Myke Towers</td>\n",
       "      <td>1</td>\n",
       "      <td>2023</td>\n",
       "      <td>3</td>\n",
       "      <td>23</td>\n",
       "      <td>1474</td>\n",
       "      <td>48</td>\n",
       "      <td>133716286</td>\n",
       "      <td>48</td>\n",
       "      <td>126</td>\n",
       "      <td>58</td>\n",
       "      <td>14</td>\n",
       "      <td>382</td>\n",
       "      <td>92</td>\n",
       "      <td>C#</td>\n",
       "      <td>Major</td>\n",
       "      <td>71</td>\n",
       "      <td>61</td>\n",
       "      <td>74</td>\n",
       "      <td>7</td>\n",
       "      <td>0</td>\n",
       "      <td>10</td>\n",
       "      <td>4</td>\n",
       "    </tr>\n",
       "    <tr>\n",
       "      <th>2</th>\n",
       "      <td>vampire</td>\n",
       "      <td>Olivia Rodrigo</td>\n",
       "      <td>1</td>\n",
       "      <td>2023</td>\n",
       "      <td>6</td>\n",
       "      <td>30</td>\n",
       "      <td>1397</td>\n",
       "      <td>113</td>\n",
       "      <td>140003974</td>\n",
       "      <td>94</td>\n",
       "      <td>207</td>\n",
       "      <td>91</td>\n",
       "      <td>14</td>\n",
       "      <td>949</td>\n",
       "      <td>138</td>\n",
       "      <td>F</td>\n",
       "      <td>Major</td>\n",
       "      <td>51</td>\n",
       "      <td>32</td>\n",
       "      <td>53</td>\n",
       "      <td>17</td>\n",
       "      <td>0</td>\n",
       "      <td>31</td>\n",
       "      <td>6</td>\n",
       "    </tr>\n",
       "    <tr>\n",
       "      <th>3</th>\n",
       "      <td>Cruel Summer</td>\n",
       "      <td>Taylor Swift</td>\n",
       "      <td>1</td>\n",
       "      <td>2019</td>\n",
       "      <td>8</td>\n",
       "      <td>23</td>\n",
       "      <td>7858</td>\n",
       "      <td>100</td>\n",
       "      <td>800840817</td>\n",
       "      <td>116</td>\n",
       "      <td>207</td>\n",
       "      <td>125</td>\n",
       "      <td>12</td>\n",
       "      <td>548</td>\n",
       "      <td>170</td>\n",
       "      <td>A</td>\n",
       "      <td>Major</td>\n",
       "      <td>55</td>\n",
       "      <td>58</td>\n",
       "      <td>72</td>\n",
       "      <td>11</td>\n",
       "      <td>0</td>\n",
       "      <td>11</td>\n",
       "      <td>15</td>\n",
       "    </tr>\n",
       "    <tr>\n",
       "      <th>4</th>\n",
       "      <td>WHERE SHE GOES</td>\n",
       "      <td>Bad Bunny</td>\n",
       "      <td>1</td>\n",
       "      <td>2023</td>\n",
       "      <td>5</td>\n",
       "      <td>18</td>\n",
       "      <td>3133</td>\n",
       "      <td>50</td>\n",
       "      <td>303236322</td>\n",
       "      <td>84</td>\n",
       "      <td>133</td>\n",
       "      <td>87</td>\n",
       "      <td>15</td>\n",
       "      <td>425</td>\n",
       "      <td>144</td>\n",
       "      <td>A</td>\n",
       "      <td>Minor</td>\n",
       "      <td>65</td>\n",
       "      <td>23</td>\n",
       "      <td>80</td>\n",
       "      <td>14</td>\n",
       "      <td>63</td>\n",
       "      <td>11</td>\n",
       "      <td>6</td>\n",
       "    </tr>\n",
       "    <tr>\n",
       "      <th>5</th>\n",
       "      <td>Sprinter</td>\n",
       "      <td>Dave, Central Cee</td>\n",
       "      <td>2</td>\n",
       "      <td>2023</td>\n",
       "      <td>6</td>\n",
       "      <td>1</td>\n",
       "      <td>2186</td>\n",
       "      <td>91</td>\n",
       "      <td>183706234</td>\n",
       "      <td>67</td>\n",
       "      <td>213</td>\n",
       "      <td>88</td>\n",
       "      <td>17</td>\n",
       "      <td>946</td>\n",
       "      <td>141</td>\n",
       "      <td>C#</td>\n",
       "      <td>Major</td>\n",
       "      <td>92</td>\n",
       "      <td>66</td>\n",
       "      <td>58</td>\n",
       "      <td>19</td>\n",
       "      <td>0</td>\n",
       "      <td>8</td>\n",
       "      <td>24</td>\n",
       "    </tr>\n",
       "    <tr>\n",
       "      <th>6</th>\n",
       "      <td>Ella Baila Sola</td>\n",
       "      <td>Eslabon Armado, Peso Pluma</td>\n",
       "      <td>2</td>\n",
       "      <td>2023</td>\n",
       "      <td>3</td>\n",
       "      <td>16</td>\n",
       "      <td>3090</td>\n",
       "      <td>50</td>\n",
       "      <td>725980112</td>\n",
       "      <td>34</td>\n",
       "      <td>222</td>\n",
       "      <td>43</td>\n",
       "      <td>13</td>\n",
       "      <td>418</td>\n",
       "      <td>148</td>\n",
       "      <td>F</td>\n",
       "      <td>Minor</td>\n",
       "      <td>67</td>\n",
       "      <td>83</td>\n",
       "      <td>76</td>\n",
       "      <td>48</td>\n",
       "      <td>0</td>\n",
       "      <td>8</td>\n",
       "      <td>3</td>\n",
       "    </tr>\n",
       "    <tr>\n",
       "      <th>7</th>\n",
       "      <td>Columbia</td>\n",
       "      <td>Quevedo</td>\n",
       "      <td>1</td>\n",
       "      <td>2023</td>\n",
       "      <td>7</td>\n",
       "      <td>7</td>\n",
       "      <td>714</td>\n",
       "      <td>43</td>\n",
       "      <td>58149378</td>\n",
       "      <td>25</td>\n",
       "      <td>89</td>\n",
       "      <td>30</td>\n",
       "      <td>13</td>\n",
       "      <td>194</td>\n",
       "      <td>100</td>\n",
       "      <td>F</td>\n",
       "      <td>Major</td>\n",
       "      <td>67</td>\n",
       "      <td>26</td>\n",
       "      <td>71</td>\n",
       "      <td>37</td>\n",
       "      <td>0</td>\n",
       "      <td>11</td>\n",
       "      <td>4</td>\n",
       "    </tr>\n",
       "    <tr>\n",
       "      <th>8</th>\n",
       "      <td>fukumean</td>\n",
       "      <td>Gunna</td>\n",
       "      <td>1</td>\n",
       "      <td>2023</td>\n",
       "      <td>5</td>\n",
       "      <td>15</td>\n",
       "      <td>1096</td>\n",
       "      <td>83</td>\n",
       "      <td>95217315</td>\n",
       "      <td>60</td>\n",
       "      <td>210</td>\n",
       "      <td>48</td>\n",
       "      <td>11</td>\n",
       "      <td>953</td>\n",
       "      <td>130</td>\n",
       "      <td>C#</td>\n",
       "      <td>Minor</td>\n",
       "      <td>85</td>\n",
       "      <td>22</td>\n",
       "      <td>62</td>\n",
       "      <td>12</td>\n",
       "      <td>0</td>\n",
       "      <td>28</td>\n",
       "      <td>9</td>\n",
       "    </tr>\n",
       "    <tr>\n",
       "      <th>9</th>\n",
       "      <td>La Bebe - Remix</td>\n",
       "      <td>Peso Pluma, Yng Lvcas</td>\n",
       "      <td>2</td>\n",
       "      <td>2023</td>\n",
       "      <td>3</td>\n",
       "      <td>17</td>\n",
       "      <td>2953</td>\n",
       "      <td>44</td>\n",
       "      <td>553634067</td>\n",
       "      <td>49</td>\n",
       "      <td>110</td>\n",
       "      <td>66</td>\n",
       "      <td>13</td>\n",
       "      <td>339</td>\n",
       "      <td>170</td>\n",
       "      <td>D</td>\n",
       "      <td>Minor</td>\n",
       "      <td>81</td>\n",
       "      <td>56</td>\n",
       "      <td>48</td>\n",
       "      <td>21</td>\n",
       "      <td>0</td>\n",
       "      <td>8</td>\n",
       "      <td>33</td>\n",
       "    </tr>\n",
       "  </tbody>\n",
       "</table>\n",
       "</div>"
      ],
      "text/plain": [
       "                            track_name  ... speechiness_%\n",
       "0  Seven (feat. Latto) (Explicit Ver.)  ...             4\n",
       "1                                 LALA  ...             4\n",
       "2                              vampire  ...             6\n",
       "3                         Cruel Summer  ...            15\n",
       "4                       WHERE SHE GOES  ...             6\n",
       "5                             Sprinter  ...            24\n",
       "6                      Ella Baila Sola  ...             3\n",
       "7                             Columbia  ...             4\n",
       "8                             fukumean  ...             9\n",
       "9                      La Bebe - Remix  ...            33\n",
       "\n",
       "[10 rows x 24 columns]"
      ]
     },
     "execution_count": 44,
     "metadata": {},
     "output_type": "execute_result"
    }
   ],
   "source": [
    "df.limit(10).toPandas()"
   ]
  },
  {
   "cell_type": "code",
   "execution_count": 0,
   "metadata": {
    "application/vnd.databricks.v1+cell": {
     "cellMetadata": {
      "byteLimit": 2048000,
      "rowLimit": 10000
     },
     "inputWidgets": {},
     "nuid": "3a6039c5-c4b5-48fc-a899-e91e5878ff79",
     "showTitle": false,
     "title": ""
    }
   },
   "outputs": [
    {
     "output_type": "stream",
     "name": "stdout",
     "output_type": "stream",
     "text": [
      "+--------------------+--------------------+------------+--------------------+-----------------+----------+------------------+---------------+-------------------+----------------+----------------+--------------+---------+--------+--------------+------------------+----------+-------------+------------+\n|          track_name|      artist(s)_name|artist_count|in_spotify_playlists|in_spotify_charts|   streams|in_apple_playlists|in_apple_charts|in_deezer_playlists|in_deezer_charts|in_shazam_charts|danceability_%|valence_%|energy_%|acousticness_%|instrumentalness_%|liveness_%|speechiness_%|release_date|\n+--------------------+--------------------+------------+--------------------+-----------------+----------+------------------+---------------+-------------------+----------------+----------------+--------------+---------+--------+--------------+------------------+----------+-------------+------------+\n|Seven (feat. Latt...|    Latto, Jung Kook|           2|                 553|              147| 141381703|                43|            263|                 45|              10|             826|            80|       89|      83|            31|                 0|         8|            4|  2023-07-14|\n|                LALA|         Myke Towers|           1|                1474|               48| 133716286|                48|            126|                 58|              14|             382|            71|       61|      74|             7|                 0|        10|            4|  2023-03-23|\n|             vampire|      Olivia Rodrigo|           1|                1397|              113| 140003974|                94|            207|                 91|              14|             949|            51|       32|      53|            17|                 0|        31|            6|  2023-06-30|\n|        Cruel Summer|        Taylor Swift|           1|                7858|              100| 800840817|               116|            207|                125|              12|             548|            55|       58|      72|            11|                 0|        11|           15|  2019-08-23|\n|      WHERE SHE GOES|           Bad Bunny|           1|                3133|               50| 303236322|                84|            133|                 87|              15|             425|            65|       23|      80|            14|                63|        11|            6|  2023-05-18|\n|            Sprinter|   Dave, Central Cee|           2|                2186|               91| 183706234|                67|            213|                 88|              17|             946|            92|       66|      58|            19|                 0|         8|           24|  2023-06-01|\n|     Ella Baila Sola|Eslabon Armado, P...|           2|                3090|               50| 725980112|                34|            222|                 43|              13|             418|            67|       83|      76|            48|                 0|         8|            3|  2023-03-16|\n|            Columbia|             Quevedo|           1|                 714|               43|  58149378|                25|             89|                 30|              13|             194|            67|       26|      71|            37|                 0|        11|            4|  2023-07-07|\n|            fukumean|               Gunna|           1|                1096|               83|  95217315|                60|            210|                 48|              11|             953|            85|       22|      62|            12|                 0|        28|            9|  2023-05-15|\n|     La Bebe - Remix|Peso Pluma, Yng L...|           2|                2953|               44| 553634067|                49|            110|                 66|              13|             339|            81|       56|      48|            21|                 0|         8|           33|  2023-03-17|\n|           un x100to|Bad Bunny, Grupo ...|           2|                2876|               40| 505671438|                41|            205|                 54|              12|             251|            57|       56|      72|            23|                 0|        27|            5|  2023-04-17|\n|           Super Shy|            NewJeans|           1|                 422|               55|  58255150|                37|            202|                 21|               5|             168|            78|       52|      82|            18|                 0|        15|            7|  2023-07-07|\n|             Flowers|         Miley Cyrus|           1|               12211|              115|1316855716|               300|            215|                745|              58|           1,021|            71|       65|      68|             6|                 0|         3|            7|  2023-01-12|\n|            Daylight|       David Kushner|           1|                3528|               98| 387570742|                80|            156|                182|              24|           1,281|            51|       32|      43|            83|                 0|         9|            3|  2023-04-14|\n|           As It Was|        Harry Styles|           1|               23575|              130|2513188493|               403|            198|                863|              46|            NULL|            52|       66|      73|            34|                 0|        31|            6|  2022-03-31|\n|           Kill Bill|                 SZA|           1|                8109|               77|1163093654|               183|            162|                161|              12|             187|            64|       43|      73|             5|                17|        16|            4|  2022-12-08|\n|   Cupid - Twin Ver.|         Fifty Fifty|           1|                2942|               77| 496795686|                91|            212|                 78|               6|               0|            78|       76|      59|            43|                 0|        34|            3|  2023-02-24|\n|\"What Was I Made ...|       Billie Eilish|           1|                 873|              104|  30546883|                80|            227|                 95|              24|           1,173|            44|       14|       9|            96|                 0|        10|            3|  2023-07-13|\n|          Classy 101|    Feid, Young Miko|           2|                2610|               40| 335222234|                43|            100|                 54|              14|             187|            86|       67|      66|            14|                 0|        12|           16|  2023-03-31|\n|          Like Crazy|               Jimin|           1|                 596|               68| 363369738|                 8|            104|                 23|               2|              29|            63|       36|      73|             0|                 0|        36|            4|  2023-03-24|\n+--------------------+--------------------+------------+--------------------+-----------------+----------+------------------+---------------+-------------------+----------------+----------------+--------------+---------+--------+--------------+------------------+----------+-------------+------------+\nonly showing top 20 rows\n\n"
     ]
    }
   ],
   "source": [
    "df = df.withColumn(\n",
    "    'release_date',\n",
    "    to_date(concat(\n",
    "        col('released_year').cast('string'), lit('-'),\n",
    "        col('released_month').cast('string'), lit('-'),\n",
    "        col('released_day').cast('string')\n",
    "    ))\n",
    ")\n",
    "\n",
    "# Drop the original year, month, and day columns\n",
    "df = df.drop('released_year', 'released_month', 'released_day', 'bpm', 'key', 'mode')\n",
    "\n",
    "# Show the resulting DataFrame\n",
    "df.show()"
   ]
  },
  {
   "cell_type": "code",
   "execution_count": 0,
   "metadata": {
    "application/vnd.databricks.v1+cell": {
     "cellMetadata": {
      "byteLimit": 2048000,
      "rowLimit": 10000
     },
     "inputWidgets": {},
     "nuid": "cec81eac-f43d-4be3-8ad6-0af8f9a776a0",
     "showTitle": false,
     "title": ""
    }
   },
   "outputs": [],
   "source": [
    "from pyspark.sql.types import IntegerType\n",
    "\n",
    "df = df.withColumn('streams', df['streams'].cast(IntegerType()))\n"
   ]
  },
  {
   "cell_type": "code",
   "execution_count": 0,
   "metadata": {
    "application/vnd.databricks.v1+cell": {
     "cellMetadata": {
      "byteLimit": 2048000,
      "rowLimit": 10000
     },
     "inputWidgets": {},
     "nuid": "e97b19de-b50a-4bdd-b226-f217efc0cfcf",
     "showTitle": false,
     "title": ""
    }
   },
   "outputs": [],
   "source": [
    "df = df.orderBy(col('streams').desc())\n",
    "\n",
    "# Drop duplicates based on 'track_name', keeping the first occurrence (highest streams)\n",
    "df = df.dropDuplicates(['track_name'])\n"
   ]
  },
  {
   "cell_type": "code",
   "execution_count": 0,
   "metadata": {
    "application/vnd.databricks.v1+cell": {
     "cellMetadata": {
      "byteLimit": 2048000,
      "rowLimit": 10000
     },
     "inputWidgets": {},
     "nuid": "8432e888-3b02-49d8-b829-216349ba9500",
     "showTitle": false,
     "title": ""
    }
   },
   "outputs": [
    {
     "output_type": "stream",
     "name": "stdout",
     "output_type": "stream",
     "text": [
      "+----------+--------------+------------+--------------------+-----------------+-------+------------------+---------------+-------------------+----------------+----------------+--------------+---------+--------+--------------+------------------+----------+-------------+------------+\n|track_name|artist(s)_name|artist_count|in_spotify_playlists|in_spotify_charts|streams|in_apple_playlists|in_apple_charts|in_deezer_playlists|in_deezer_charts|in_shazam_charts|danceability_%|valence_%|energy_%|acousticness_%|instrumentalness_%|liveness_%|speechiness_%|release_date|\n+----------+--------------+------------+--------------------+-----------------+-------+------------------+---------------+-------------------+----------------+----------------+--------------+---------+--------+--------------+------------------+----------+-------------+------------+\n|         0|             0|           0|                   0|                0|     26|                 0|              0|                  0|               0|              50|             0|        0|       0|             0|                 0|         0|            0|           0|\n+----------+--------------+------------+--------------------+-----------------+-------+------------------+---------------+-------------------+----------------+----------------+--------------+---------+--------+--------------+------------------+----------+-------------+------------+\n\n"
     ]
    }
   ],
   "source": [
    "# Check for null values and sum them up\n",
    "df.select([count(when(isnull(c), c)).alias(c) for c in df.columns]).show()\n"
   ]
  },
  {
   "cell_type": "code",
   "execution_count": 0,
   "metadata": {
    "application/vnd.databricks.v1+cell": {
     "cellMetadata": {
      "byteLimit": 2048000,
      "rowLimit": 10000
     },
     "inputWidgets": {},
     "nuid": "0a264a39-d8d9-469f-b62f-e7c1075c4d8b",
     "showTitle": false,
     "title": ""
    }
   },
   "outputs": [],
   "source": [
    "df = df.drop('in_shazam_charts')\n"
   ]
  },
  {
   "cell_type": "code",
   "execution_count": 0,
   "metadata": {
    "application/vnd.databricks.v1+cell": {
     "cellMetadata": {
      "byteLimit": 2048000,
      "rowLimit": 10000
     },
     "inputWidgets": {},
     "nuid": "ed319396-7fb7-493a-b067-5df3a253002e",
     "showTitle": false,
     "title": ""
    }
   },
   "outputs": [
    {
     "output_type": "stream",
     "name": "stdout",
     "output_type": "stream",
     "text": [
      "root\n |-- track_name: string (nullable = true)\n |-- artist(s)_name: string (nullable = true)\n |-- artist_count: string (nullable = true)\n |-- in_spotify_playlists: string (nullable = true)\n |-- in_spotify_charts: string (nullable = true)\n |-- streams: integer (nullable = true)\n |-- in_apple_playlists: string (nullable = true)\n |-- in_apple_charts: string (nullable = true)\n |-- in_deezer_playlists: string (nullable = true)\n |-- in_deezer_charts: string (nullable = true)\n |-- danceability_%: string (nullable = true)\n |-- valence_%: string (nullable = true)\n |-- energy_%: string (nullable = true)\n |-- acousticness_%: string (nullable = true)\n |-- instrumentalness_%: string (nullable = true)\n |-- liveness_%: string (nullable = true)\n |-- speechiness_%: string (nullable = true)\n |-- release_date: date (nullable = true)\n\n"
     ]
    }
   ],
   "source": [
    "df.printSchema()"
   ]
  },
  {
   "cell_type": "code",
   "execution_count": 0,
   "metadata": {
    "application/vnd.databricks.v1+cell": {
     "cellMetadata": {
      "byteLimit": 2048000,
      "rowLimit": 10000
     },
     "inputWidgets": {},
     "nuid": "1c184372-df1e-4391-b3d8-e77ffe5bc312",
     "showTitle": false,
     "title": ""
    }
   },
   "outputs": [
    {
     "output_type": "stream",
     "name": "stdout",
     "output_type": "stream",
     "text": [
      "+--------------------+--------------------+------------+--------------------+-----------------+----------+------------------+---------------+-------------------+----------------+--------------+---------+--------+--------------+------------------+----------+-------------+------------+\n|          track_name|      artist(s)_name|artist_count|in_spotify_playlists|in_spotify_charts|   streams|in_apple_playlists|in_apple_charts|in_deezer_playlists|in_deezer_charts|danceability_%|valence_%|energy_%|acousticness_%|instrumentalness_%|liveness_%|speechiness_%|release_date|\n+--------------------+--------------------+------------+--------------------+-----------------+----------+------------------+---------------+-------------------+----------------+--------------+---------+--------+--------------+------------------+----------+-------------+------------+\n|\"Apna Bana Le (Fr...|Arijit Singh, Sac...|           2|                  86|                0| 139836056|                11|            101|                  0|               0|            59|       44|      56|            80|                 0|         6|            3|  2022-11-05|\n|\"Besharam Rang (F...|Vishal-Shekhar, S...|           6|                 130|                4| 140187018|                21|             79|                  2|               0|            77|       65|      80|             6|                 0|        15|            4|  2022-12-12|\n|\"Come Back Home -...|        Sofia Carson|           1|                 367|                0|  97610446|                28|             67|                195|               0|            56|       43|      53|            24|                 0|        12|            4|  2022-07-12|\n|\"I'm Tired - From...|            Labrinth|           1|                1888|                0| 121913181|                26|              1|                 58|               0|            28|       26|      20|            19|                 0|        30|            3|  2022-02-04|\n|\"Kesariya (From \"...|Pritam, Arijit Si...|           3|                 292|                6| 366599607|                26|             98|                  4|               0|            58|       44|      57|            57|                 0|        10|            3|  2022-07-17|\n|\"Nobody Like U - ...|Jordan Fisher, Jo...|           6|                 918|                0| 120847157|                34|             39|                 30|               0|            91|       73|      72|            13|                 0|         9|           15|  2022-02-25|\n|\"Phir Aur Kya Cha...|Arijit Singh, Sac...|           3|                 178|                6|  64533040|                 6|             71|                  1|               0|            56|       53|      55|            53|                 0|        12|            4|  2023-05-15|\n|\"Tere Vaaste (Fro...|Sachin-Jigar, Sha...|           5|                 182|                8|  54225632|                 3|             88|                  1|               0|            76|       96|      72|            32|                 0|         9|            4|  2023-05-22|\n|\"What Was I Made ...|       Billie Eilish|           1|                 873|              104|  30546883|                80|            227|                 95|              24|            44|       14|       9|            96|                 0|        10|            3|  2023-07-13|\n|    'Till I Collapse|   Eminem, Nate Dogg|           2|               22923|                0|1695712020|                78|             46|               NULL|               1|            55|       10|      85|             7|                 0|         8|           20|  2002-05-26|\n|(It Goes Like) Na...|           Peggy Gou|           1|                2259|               59|  57876440|                 0|              0|                109|              17|            67|       96|      88|            12|                19|         8|            4|  2023-06-15|\n|10 Things I Hate ...|           Leah Kate|           1|                1301|                0| 185550869|                23|              1|                 15|               0|            54|       45|      79|             1|                 0|        17|            5|  2022-03-23|\n|               10:35|     Ti��sto, Tate M|           2|                4942|               26| 325592432|               190|            104|                147|              18|            70|       70|      79|             7|                 0|        18|           10|  2022-11-01|\n|2 Be Loved (Am I ...|               Lizzo|           1|                3682|                6| 247689123|                41|              0|                158|               2|            72|       92|      77|             9|                 0|         8|           11|  2022-07-14|\n|                2055|       Sleepy hallow|           1|                2226|                0| 624515457|                29|              0|                 44|               0|            78|       65|      52|            46|                 0|        12|           31|  2021-04-14|\n|                 212|  Mainstreet, Chefin|           2|                 352|                0| 143139338|                10|              0|                 39|               0|            79|       86|      52|            66|                 0|         9|            7|  2022-01-15|\n|25k jacket (feat....|     Gunna, Lil Baby|           2|                 620|                0|  54937991|                17|              3|                  3|               0|            90|       74|      54|            16|                 0|        13|           28|  2022-01-07|\n|                 295|    Sidhu Moose Wala|           1|                 246|                4| 183273246|                 4|            106|                  0|               0|            68|       54|      76|            21|                 0|        11|           20|  2021-05-15|\n|                 505|      Arctic Monkeys|           1|               13985|               25|1217120710|                30|             80|                588|               1|            52|       20|      85|             0|                 0|         7|            5|  2007-04-20|\n|                  69|     Nicky Jam, Feid|           2|                1134|               22|  57945987|                39|             14|                 48|               2|            79|       58|      62|            11|                 0|        11|           23|  2023-05-18|\n+--------------------+--------------------+------------+--------------------+-----------------+----------+------------------+---------------+-------------------+----------------+--------------+---------+--------+--------------+------------------+----------+-------------+------------+\nonly showing top 20 rows\n\n"
     ]
    }
   ],
   "source": [
    "# Define columns to convert to integer (columns 2 to 16, excluding column 5)\n",
    "columns_to_convert = [col_name for col_name in df.columns[2:16] if col_name != 'streams']\n",
    "\n",
    "# Convert selected columns to integer type\n",
    "for col_name in columns_to_convert:\n",
    "    df = df.withColumn(col_name, col(col_name).cast('integer'))\n",
    "\n",
    "# Show the resulting DataFrame\n",
    "df.show()"
   ]
  },
  {
   "cell_type": "code",
   "execution_count": 0,
   "metadata": {
    "application/vnd.databricks.v1+cell": {
     "cellMetadata": {
      "byteLimit": 2048000,
      "rowLimit": 10000
     },
     "inputWidgets": {},
     "nuid": "2748c484-a2ab-4fa1-97a7-74eb79f5d964",
     "showTitle": false,
     "title": ""
    }
   },
   "outputs": [],
   "source": [
    "df.write.option(\"header\", True).mode(\"overwrite\").csv(\"abfss://processed-data@spotifyadls.dfs.core.windows.net/\")"
   ]
  }
 ],
 "metadata": {
  "application/vnd.databricks.v1+notebook": {
   "dashboards": [],
   "environmentMetadata": null,
   "language": "python",
   "notebookMetadata": {
    "pythonIndentUnit": 4
   },
   "notebookName": "Untitled Notebook 2024-06-15 20:51:25",
   "widgets": {}
  }
 },
 "nbformat": 4,
 "nbformat_minor": 0
}
